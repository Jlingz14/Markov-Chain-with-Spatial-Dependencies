{
 "cells": [
  {
   "cell_type": "code",
   "execution_count": 1,
   "metadata": {},
   "outputs": [],
   "source": [
    "import numpy as np\n",
    "import seaborn as sns\n",
    "sns.set_style(\"white\")\n",
    "from collections import Counter\n",
    "import giddy\n",
    "import mapclassify as mc\n",
    "import matplotlib.pyplot as plt\n",
    "import pandas as pd\n",
    "import seaborn as sns\n",
    "import libpysal\n",
    "from scipy.stats import mode"
   ]
  },
  {
   "cell_type": "code",
   "execution_count": 2,
   "metadata": {},
   "outputs": [
    {
     "data": {
      "text/html": [
       "<div>\n",
       "<style scoped>\n",
       "    .dataframe tbody tr th:only-of-type {\n",
       "        vertical-align: middle;\n",
       "    }\n",
       "\n",
       "    .dataframe tbody tr th {\n",
       "        vertical-align: top;\n",
       "    }\n",
       "\n",
       "    .dataframe thead th {\n",
       "        text-align: right;\n",
       "    }\n",
       "</style>\n",
       "<table border=\"1\" class=\"dataframe\">\n",
       "  <thead>\n",
       "    <tr style=\"text-align: right;\">\n",
       "      <th></th>\n",
       "      <th>Lat</th>\n",
       "      <th>Long</th>\n",
       "      <th>Region</th>\n",
       "      <th>31/03/20</th>\n",
       "      <th>07/04/20</th>\n",
       "      <th>15/04/20</th>\n",
       "      <th>22/04/20</th>\n",
       "      <th>30/04/20</th>\n",
       "      <th>07/05/20</th>\n",
       "      <th>15/05/20</th>\n",
       "      <th>...</th>\n",
       "      <th>22/06/20</th>\n",
       "      <th>30/06/20</th>\n",
       "      <th>07/07/20</th>\n",
       "      <th>15/07/20</th>\n",
       "      <th>22/07/20</th>\n",
       "      <th>31/07/30</th>\n",
       "      <th>07/08/20</th>\n",
       "      <th>15/08/20</th>\n",
       "      <th>22/08/20</th>\n",
       "      <th>30/08/20</th>\n",
       "    </tr>\n",
       "  </thead>\n",
       "  <tbody>\n",
       "    <tr>\n",
       "      <th>0</th>\n",
       "      <td>-21,50216466</td>\n",
       "      <td>45,20566584</td>\n",
       "      <td>Androy</td>\n",
       "      <td>1</td>\n",
       "      <td>1</td>\n",
       "      <td>1</td>\n",
       "      <td>1</td>\n",
       "      <td>1</td>\n",
       "      <td>1</td>\n",
       "      <td>1</td>\n",
       "      <td>...</td>\n",
       "      <td>1</td>\n",
       "      <td>1</td>\n",
       "      <td>1</td>\n",
       "      <td>1</td>\n",
       "      <td>1</td>\n",
       "      <td>3</td>\n",
       "      <td>1</td>\n",
       "      <td>3</td>\n",
       "      <td>1</td>\n",
       "      <td>3</td>\n",
       "    </tr>\n",
       "    <tr>\n",
       "      <th>1</th>\n",
       "      <td>-25,0333332</td>\n",
       "      <td>46,9833294</td>\n",
       "      <td>Anôsy</td>\n",
       "      <td>1</td>\n",
       "      <td>1</td>\n",
       "      <td>1</td>\n",
       "      <td>1</td>\n",
       "      <td>2</td>\n",
       "      <td>1</td>\n",
       "      <td>1</td>\n",
       "      <td>...</td>\n",
       "      <td>1</td>\n",
       "      <td>1</td>\n",
       "      <td>1</td>\n",
       "      <td>1</td>\n",
       "      <td>3</td>\n",
       "      <td>3</td>\n",
       "      <td>3</td>\n",
       "      <td>3</td>\n",
       "      <td>2</td>\n",
       "      <td>2</td>\n",
       "    </tr>\n",
       "    <tr>\n",
       "      <th>2</th>\n",
       "      <td>-23,35</td>\n",
       "      <td>43,66667</td>\n",
       "      <td>Atsimo_Andrefana</td>\n",
       "      <td>1</td>\n",
       "      <td>2</td>\n",
       "      <td>1</td>\n",
       "      <td>1</td>\n",
       "      <td>2</td>\n",
       "      <td>1</td>\n",
       "      <td>1</td>\n",
       "      <td>...</td>\n",
       "      <td>1</td>\n",
       "      <td>1</td>\n",
       "      <td>1</td>\n",
       "      <td>3</td>\n",
       "      <td>3</td>\n",
       "      <td>3</td>\n",
       "      <td>3</td>\n",
       "      <td>3</td>\n",
       "      <td>2</td>\n",
       "      <td>3</td>\n",
       "    </tr>\n",
       "    <tr>\n",
       "      <th>3</th>\n",
       "      <td>-22,40293</td>\n",
       "      <td>46,12576</td>\n",
       "      <td>Ihorombe</td>\n",
       "      <td>1</td>\n",
       "      <td>1</td>\n",
       "      <td>1</td>\n",
       "      <td>1</td>\n",
       "      <td>1</td>\n",
       "      <td>1</td>\n",
       "      <td>1</td>\n",
       "      <td>...</td>\n",
       "      <td>1</td>\n",
       "      <td>1</td>\n",
       "      <td>1</td>\n",
       "      <td>2</td>\n",
       "      <td>1</td>\n",
       "      <td>2</td>\n",
       "      <td>3</td>\n",
       "      <td>1</td>\n",
       "      <td>3</td>\n",
       "      <td>3</td>\n",
       "    </tr>\n",
       "    <tr>\n",
       "      <th>4</th>\n",
       "      <td>-20,28416553</td>\n",
       "      <td>44,31716538</td>\n",
       "      <td>Menabe</td>\n",
       "      <td>1</td>\n",
       "      <td>1</td>\n",
       "      <td>1</td>\n",
       "      <td>1</td>\n",
       "      <td>1</td>\n",
       "      <td>1</td>\n",
       "      <td>1</td>\n",
       "      <td>...</td>\n",
       "      <td>1</td>\n",
       "      <td>1</td>\n",
       "      <td>2</td>\n",
       "      <td>1</td>\n",
       "      <td>2</td>\n",
       "      <td>1</td>\n",
       "      <td>3</td>\n",
       "      <td>3</td>\n",
       "      <td>3</td>\n",
       "      <td>3</td>\n",
       "    </tr>\n",
       "    <tr>\n",
       "      <th>5</th>\n",
       "      <td>-17,166666</td>\n",
       "      <td>49,2999988</td>\n",
       "      <td>Analanjirofo</td>\n",
       "      <td>1</td>\n",
       "      <td>1</td>\n",
       "      <td>2</td>\n",
       "      <td>1</td>\n",
       "      <td>1</td>\n",
       "      <td>1</td>\n",
       "      <td>1</td>\n",
       "      <td>...</td>\n",
       "      <td>3</td>\n",
       "      <td>3</td>\n",
       "      <td>2</td>\n",
       "      <td>3</td>\n",
       "      <td>3</td>\n",
       "      <td>3</td>\n",
       "      <td>2</td>\n",
       "      <td>1</td>\n",
       "      <td>1</td>\n",
       "      <td>1</td>\n",
       "    </tr>\n",
       "    <tr>\n",
       "      <th>6</th>\n",
       "      <td>-12,2666656</td>\n",
       "      <td>49,2833322</td>\n",
       "      <td>Diana</td>\n",
       "      <td>1</td>\n",
       "      <td>1</td>\n",
       "      <td>1</td>\n",
       "      <td>1</td>\n",
       "      <td>1</td>\n",
       "      <td>1</td>\n",
       "      <td>1</td>\n",
       "      <td>...</td>\n",
       "      <td>1</td>\n",
       "      <td>1</td>\n",
       "      <td>1</td>\n",
       "      <td>1</td>\n",
       "      <td>1</td>\n",
       "      <td>1</td>\n",
       "      <td>1</td>\n",
       "      <td>3</td>\n",
       "      <td>3</td>\n",
       "      <td>3</td>\n",
       "    </tr>\n",
       "    <tr>\n",
       "      <th>7</th>\n",
       "      <td>-14,8833298</td>\n",
       "      <td>50,2833322</td>\n",
       "      <td>Sava</td>\n",
       "      <td>1</td>\n",
       "      <td>1</td>\n",
       "      <td>1</td>\n",
       "      <td>1</td>\n",
       "      <td>1</td>\n",
       "      <td>1</td>\n",
       "      <td>1</td>\n",
       "      <td>...</td>\n",
       "      <td>1</td>\n",
       "      <td>2</td>\n",
       "      <td>1</td>\n",
       "      <td>2</td>\n",
       "      <td>1</td>\n",
       "      <td>3</td>\n",
       "      <td>3</td>\n",
       "      <td>3</td>\n",
       "      <td>3</td>\n",
       "      <td>3</td>\n",
       "    </tr>\n",
       "    <tr>\n",
       "      <th>8</th>\n",
       "      <td>-14,87239818</td>\n",
       "      <td>47,9833994</td>\n",
       "      <td>Sofia</td>\n",
       "      <td>1</td>\n",
       "      <td>1</td>\n",
       "      <td>1</td>\n",
       "      <td>1</td>\n",
       "      <td>1</td>\n",
       "      <td>1</td>\n",
       "      <td>1</td>\n",
       "      <td>...</td>\n",
       "      <td>1</td>\n",
       "      <td>1</td>\n",
       "      <td>1</td>\n",
       "      <td>2</td>\n",
       "      <td>2</td>\n",
       "      <td>3</td>\n",
       "      <td>3</td>\n",
       "      <td>3</td>\n",
       "      <td>3</td>\n",
       "      <td>3</td>\n",
       "    </tr>\n",
       "    <tr>\n",
       "      <th>9</th>\n",
       "      <td>-15,71667</td>\n",
       "      <td>46,31667</td>\n",
       "      <td>Boeny</td>\n",
       "      <td>1</td>\n",
       "      <td>1</td>\n",
       "      <td>1</td>\n",
       "      <td>1</td>\n",
       "      <td>1</td>\n",
       "      <td>1</td>\n",
       "      <td>1</td>\n",
       "      <td>...</td>\n",
       "      <td>1</td>\n",
       "      <td>2</td>\n",
       "      <td>2</td>\n",
       "      <td>2</td>\n",
       "      <td>3</td>\n",
       "      <td>3</td>\n",
       "      <td>3</td>\n",
       "      <td>3</td>\n",
       "      <td>2</td>\n",
       "      <td>2</td>\n",
       "    </tr>\n",
       "    <tr>\n",
       "      <th>10</th>\n",
       "      <td>-18,05428</td>\n",
       "      <td>44,034196</td>\n",
       "      <td>Melaky</td>\n",
       "      <td>1</td>\n",
       "      <td>1</td>\n",
       "      <td>1</td>\n",
       "      <td>1</td>\n",
       "      <td>1</td>\n",
       "      <td>1</td>\n",
       "      <td>1</td>\n",
       "      <td>...</td>\n",
       "      <td>1</td>\n",
       "      <td>1</td>\n",
       "      <td>1</td>\n",
       "      <td>1</td>\n",
       "      <td>1</td>\n",
       "      <td>1</td>\n",
       "      <td>1</td>\n",
       "      <td>1</td>\n",
       "      <td>1</td>\n",
       "      <td>1</td>\n",
       "    </tr>\n",
       "    <tr>\n",
       "      <th>11</th>\n",
       "      <td>-17,2999988</td>\n",
       "      <td>46,9499962</td>\n",
       "      <td>Betsiboka</td>\n",
       "      <td>1</td>\n",
       "      <td>1</td>\n",
       "      <td>1</td>\n",
       "      <td>1</td>\n",
       "      <td>1</td>\n",
       "      <td>1</td>\n",
       "      <td>1</td>\n",
       "      <td>...</td>\n",
       "      <td>1</td>\n",
       "      <td>1</td>\n",
       "      <td>1</td>\n",
       "      <td>2</td>\n",
       "      <td>3</td>\n",
       "      <td>3</td>\n",
       "      <td>2</td>\n",
       "      <td>2</td>\n",
       "      <td>3</td>\n",
       "      <td>3</td>\n",
       "    </tr>\n",
       "    <tr>\n",
       "      <th>12</th>\n",
       "      <td>-18,9333296</td>\n",
       "      <td>47,5166646</td>\n",
       "      <td>Analamanga</td>\n",
       "      <td>2</td>\n",
       "      <td>2</td>\n",
       "      <td>2</td>\n",
       "      <td>2</td>\n",
       "      <td>2</td>\n",
       "      <td>2</td>\n",
       "      <td>2</td>\n",
       "      <td>...</td>\n",
       "      <td>2</td>\n",
       "      <td>2</td>\n",
       "      <td>3</td>\n",
       "      <td>3</td>\n",
       "      <td>3</td>\n",
       "      <td>3</td>\n",
       "      <td>3</td>\n",
       "      <td>2</td>\n",
       "      <td>2</td>\n",
       "      <td>2</td>\n",
       "    </tr>\n",
       "    <tr>\n",
       "      <th>13</th>\n",
       "      <td>-18,1499994</td>\n",
       "      <td>49,416665</td>\n",
       "      <td>Itasy</td>\n",
       "      <td>1</td>\n",
       "      <td>1</td>\n",
       "      <td>1</td>\n",
       "      <td>1</td>\n",
       "      <td>1</td>\n",
       "      <td>1</td>\n",
       "      <td>1</td>\n",
       "      <td>...</td>\n",
       "      <td>1</td>\n",
       "      <td>1</td>\n",
       "      <td>2</td>\n",
       "      <td>3</td>\n",
       "      <td>3</td>\n",
       "      <td>3</td>\n",
       "      <td>3</td>\n",
       "      <td>2</td>\n",
       "      <td>2</td>\n",
       "      <td>1</td>\n",
       "    </tr>\n",
       "    <tr>\n",
       "      <th>14</th>\n",
       "      <td>-18,76969</td>\n",
       "      <td>46,04653</td>\n",
       "      <td>Bongolava</td>\n",
       "      <td>1</td>\n",
       "      <td>1</td>\n",
       "      <td>1</td>\n",
       "      <td>1</td>\n",
       "      <td>1</td>\n",
       "      <td>1</td>\n",
       "      <td>1</td>\n",
       "      <td>...</td>\n",
       "      <td>2</td>\n",
       "      <td>1</td>\n",
       "      <td>1</td>\n",
       "      <td>2</td>\n",
       "      <td>3</td>\n",
       "      <td>3</td>\n",
       "      <td>3</td>\n",
       "      <td>2</td>\n",
       "      <td>3</td>\n",
       "      <td>3</td>\n",
       "    </tr>\n",
       "    <tr>\n",
       "      <th>15</th>\n",
       "      <td>-19,8666632</td>\n",
       "      <td>47,0333332</td>\n",
       "      <td>Vakinakaratra</td>\n",
       "      <td>1</td>\n",
       "      <td>1</td>\n",
       "      <td>1</td>\n",
       "      <td>1</td>\n",
       "      <td>1</td>\n",
       "      <td>2</td>\n",
       "      <td>2</td>\n",
       "      <td>...</td>\n",
       "      <td>2</td>\n",
       "      <td>2</td>\n",
       "      <td>3</td>\n",
       "      <td>3</td>\n",
       "      <td>2</td>\n",
       "      <td>3</td>\n",
       "      <td>3</td>\n",
       "      <td>3</td>\n",
       "      <td>3</td>\n",
       "      <td>3</td>\n",
       "    </tr>\n",
       "    <tr>\n",
       "      <th>16</th>\n",
       "      <td>-21,45267</td>\n",
       "      <td>47,08569</td>\n",
       "      <td>Matsiatra-ambony</td>\n",
       "      <td>1</td>\n",
       "      <td>1</td>\n",
       "      <td>1</td>\n",
       "      <td>1</td>\n",
       "      <td>1</td>\n",
       "      <td>2</td>\n",
       "      <td>2</td>\n",
       "      <td>...</td>\n",
       "      <td>2</td>\n",
       "      <td>1</td>\n",
       "      <td>2</td>\n",
       "      <td>2</td>\n",
       "      <td>3</td>\n",
       "      <td>3</td>\n",
       "      <td>3</td>\n",
       "      <td>3</td>\n",
       "      <td>3</td>\n",
       "      <td>3</td>\n",
       "    </tr>\n",
       "    <tr>\n",
       "      <th>17</th>\n",
       "      <td>-22,14862</td>\n",
       "      <td>48,01055</td>\n",
       "      <td>Vatovavy_vitovinany</td>\n",
       "      <td>1</td>\n",
       "      <td>1</td>\n",
       "      <td>1</td>\n",
       "      <td>1</td>\n",
       "      <td>1</td>\n",
       "      <td>1</td>\n",
       "      <td>1</td>\n",
       "      <td>...</td>\n",
       "      <td>1</td>\n",
       "      <td>1</td>\n",
       "      <td>1</td>\n",
       "      <td>2</td>\n",
       "      <td>3</td>\n",
       "      <td>2</td>\n",
       "      <td>2</td>\n",
       "      <td>3</td>\n",
       "      <td>3</td>\n",
       "      <td>3</td>\n",
       "    </tr>\n",
       "    <tr>\n",
       "      <th>18</th>\n",
       "      <td>-22,82223</td>\n",
       "      <td>47,82615</td>\n",
       "      <td>Atsimo_Atsinana</td>\n",
       "      <td>1</td>\n",
       "      <td>1</td>\n",
       "      <td>1</td>\n",
       "      <td>1</td>\n",
       "      <td>1</td>\n",
       "      <td>1</td>\n",
       "      <td>1</td>\n",
       "      <td>...</td>\n",
       "      <td>1</td>\n",
       "      <td>1</td>\n",
       "      <td>3</td>\n",
       "      <td>1</td>\n",
       "      <td>1</td>\n",
       "      <td>3</td>\n",
       "      <td>1</td>\n",
       "      <td>1</td>\n",
       "      <td>1</td>\n",
       "      <td>1</td>\n",
       "    </tr>\n",
       "    <tr>\n",
       "      <th>19</th>\n",
       "      <td>-20,53034</td>\n",
       "      <td>47,24344</td>\n",
       "      <td>Amoron_Mania</td>\n",
       "      <td>1</td>\n",
       "      <td>1</td>\n",
       "      <td>1</td>\n",
       "      <td>1</td>\n",
       "      <td>1</td>\n",
       "      <td>1</td>\n",
       "      <td>1</td>\n",
       "      <td>...</td>\n",
       "      <td>1</td>\n",
       "      <td>1</td>\n",
       "      <td>2</td>\n",
       "      <td>1</td>\n",
       "      <td>3</td>\n",
       "      <td>2</td>\n",
       "      <td>3</td>\n",
       "      <td>3</td>\n",
       "      <td>3</td>\n",
       "      <td>2</td>\n",
       "    </tr>\n",
       "    <tr>\n",
       "      <th>20</th>\n",
       "      <td>-17,9</td>\n",
       "      <td>48,4</td>\n",
       "      <td>Alaotra_Mangoro</td>\n",
       "      <td>1</td>\n",
       "      <td>1</td>\n",
       "      <td>1</td>\n",
       "      <td>1</td>\n",
       "      <td>1</td>\n",
       "      <td>2</td>\n",
       "      <td>2</td>\n",
       "      <td>...</td>\n",
       "      <td>2</td>\n",
       "      <td>3</td>\n",
       "      <td>2</td>\n",
       "      <td>2</td>\n",
       "      <td>3</td>\n",
       "      <td>3</td>\n",
       "      <td>3</td>\n",
       "      <td>3</td>\n",
       "      <td>3</td>\n",
       "      <td>2</td>\n",
       "    </tr>\n",
       "    <tr>\n",
       "      <th>21</th>\n",
       "      <td>-18,1499994</td>\n",
       "      <td>49,416665</td>\n",
       "      <td>Atsinanana</td>\n",
       "      <td>1</td>\n",
       "      <td>2</td>\n",
       "      <td>2</td>\n",
       "      <td>2</td>\n",
       "      <td>2</td>\n",
       "      <td>2</td>\n",
       "      <td>3</td>\n",
       "      <td>...</td>\n",
       "      <td>3</td>\n",
       "      <td>2</td>\n",
       "      <td>2</td>\n",
       "      <td>2</td>\n",
       "      <td>2</td>\n",
       "      <td>2</td>\n",
       "      <td>2</td>\n",
       "      <td>2</td>\n",
       "      <td>2</td>\n",
       "      <td>2</td>\n",
       "    </tr>\n",
       "  </tbody>\n",
       "</table>\n",
       "<p>22 rows × 24 columns</p>\n",
       "</div>"
      ],
      "text/plain": [
       "             Lat         Long               Region  31/03/20  07/04/20  \\\n",
       "0   -21,50216466  45,20566584               Androy         1         1   \n",
       "1    -25,0333332   46,9833294                Anôsy         1         1   \n",
       "2         -23,35     43,66667     Atsimo_Andrefana         1         2   \n",
       "3      -22,40293     46,12576             Ihorombe         1         1   \n",
       "4   -20,28416553  44,31716538               Menabe         1         1   \n",
       "5     -17,166666   49,2999988         Analanjirofo         1         1   \n",
       "6    -12,2666656   49,2833322                Diana         1         1   \n",
       "7    -14,8833298   50,2833322                 Sava         1         1   \n",
       "8   -14,87239818   47,9833994                Sofia         1         1   \n",
       "9      -15,71667     46,31667                Boeny         1         1   \n",
       "10     -18,05428    44,034196               Melaky         1         1   \n",
       "11   -17,2999988   46,9499962            Betsiboka         1         1   \n",
       "12   -18,9333296   47,5166646           Analamanga         2         2   \n",
       "13   -18,1499994    49,416665                Itasy         1         1   \n",
       "14     -18,76969     46,04653            Bongolava         1         1   \n",
       "15   -19,8666632   47,0333332        Vakinakaratra         1         1   \n",
       "16     -21,45267     47,08569     Matsiatra-ambony         1         1   \n",
       "17     -22,14862     48,01055  Vatovavy_vitovinany         1         1   \n",
       "18     -22,82223     47,82615      Atsimo_Atsinana         1         1   \n",
       "19     -20,53034     47,24344         Amoron_Mania         1         1   \n",
       "20         -17,9         48,4      Alaotra_Mangoro         1         1   \n",
       "21   -18,1499994    49,416665           Atsinanana         1         2   \n",
       "\n",
       "    15/04/20  22/04/20  30/04/20  07/05/20  15/05/20  ...  22/06/20  30/06/20  \\\n",
       "0          1         1         1         1         1  ...         1         1   \n",
       "1          1         1         2         1         1  ...         1         1   \n",
       "2          1         1         2         1         1  ...         1         1   \n",
       "3          1         1         1         1         1  ...         1         1   \n",
       "4          1         1         1         1         1  ...         1         1   \n",
       "5          2         1         1         1         1  ...         3         3   \n",
       "6          1         1         1         1         1  ...         1         1   \n",
       "7          1         1         1         1         1  ...         1         2   \n",
       "8          1         1         1         1         1  ...         1         1   \n",
       "9          1         1         1         1         1  ...         1         2   \n",
       "10         1         1         1         1         1  ...         1         1   \n",
       "11         1         1         1         1         1  ...         1         1   \n",
       "12         2         2         2         2         2  ...         2         2   \n",
       "13         1         1         1         1         1  ...         1         1   \n",
       "14         1         1         1         1         1  ...         2         1   \n",
       "15         1         1         1         2         2  ...         2         2   \n",
       "16         1         1         1         2         2  ...         2         1   \n",
       "17         1         1         1         1         1  ...         1         1   \n",
       "18         1         1         1         1         1  ...         1         1   \n",
       "19         1         1         1         1         1  ...         1         1   \n",
       "20         1         1         1         2         2  ...         2         3   \n",
       "21         2         2         2         2         3  ...         3         2   \n",
       "\n",
       "    07/07/20  15/07/20  22/07/20  31/07/30  07/08/20  15/08/20  22/08/20  \\\n",
       "0          1         1         1         3         1         3         1   \n",
       "1          1         1         3         3         3         3         2   \n",
       "2          1         3         3         3         3         3         2   \n",
       "3          1         2         1         2         3         1         3   \n",
       "4          2         1         2         1         3         3         3   \n",
       "5          2         3         3         3         2         1         1   \n",
       "6          1         1         1         1         1         3         3   \n",
       "7          1         2         1         3         3         3         3   \n",
       "8          1         2         2         3         3         3         3   \n",
       "9          2         2         3         3         3         3         2   \n",
       "10         1         1         1         1         1         1         1   \n",
       "11         1         2         3         3         2         2         3   \n",
       "12         3         3         3         3         3         2         2   \n",
       "13         2         3         3         3         3         2         2   \n",
       "14         1         2         3         3         3         2         3   \n",
       "15         3         3         2         3         3         3         3   \n",
       "16         2         2         3         3         3         3         3   \n",
       "17         1         2         3         2         2         3         3   \n",
       "18         3         1         1         3         1         1         1   \n",
       "19         2         1         3         2         3         3         3   \n",
       "20         2         2         3         3         3         3         3   \n",
       "21         2         2         2         2         2         2         2   \n",
       "\n",
       "    30/08/20  \n",
       "0          3  \n",
       "1          2  \n",
       "2          3  \n",
       "3          3  \n",
       "4          3  \n",
       "5          1  \n",
       "6          3  \n",
       "7          3  \n",
       "8          3  \n",
       "9          2  \n",
       "10         1  \n",
       "11         3  \n",
       "12         2  \n",
       "13         1  \n",
       "14         3  \n",
       "15         3  \n",
       "16         3  \n",
       "17         3  \n",
       "18         1  \n",
       "19         2  \n",
       "20         2  \n",
       "21         2  \n",
       "\n",
       "[22 rows x 24 columns]"
      ]
     },
     "execution_count": 2,
     "metadata": {},
     "output_type": "execute_result"
    }
   ],
   "source": [
    "df = pd.read_csv('per_week.csv')\n",
    "c = np.array(df.iloc[:,3:])\n",
    "df"
   ]
  },
  {
   "cell_type": "markdown",
   "metadata": {},
   "source": [
    "# Matrice Markov"
   ]
  },
  {
   "cell_type": "code",
   "execution_count": 3,
   "metadata": {},
   "outputs": [],
   "source": [
    "class Markov(object):\n",
    "    def __init__(self, class_ids):\n",
    "        self.classes = np.unique(class_ids)\n",
    "        class_ids = np.array(class_ids)\n",
    "        n, t = class_ids.shape\n",
    "        k = len(self.classes)\n",
    "        self.k = k\n",
    "        js = list(range(t - 1))\n",
    "\n",
    "        classIds = self.classes.tolist()\n",
    "        transitions = np.zeros((k, k))\n",
    "        for state_0 in js:\n",
    "            state_1 = state_0 + 1\n",
    "            state_0 = class_ids[:, state_0]\n",
    "            state_1 = class_ids[:, state_1]\n",
    "            initial = np.unique(state_0)\n",
    "            for i in initial:\n",
    "                ending = state_1[state_0 == i]\n",
    "                uending = np.unique(ending)\n",
    "                row = classIds.index(i)\n",
    "                for j in uending:\n",
    "                    col = classIds.index(j)\n",
    "                    transitions[row, col] += sum(ending == j)\n",
    "        self.transitions = transitions\n",
    "        row_sum = transitions.sum(axis=1)\n",
    "        self.p = np.dot(np.diag(1 / (row_sum + (row_sum == 0))), transitions)"
   ]
  },
  {
   "cell_type": "code",
   "execution_count": 4,
   "metadata": {},
   "outputs": [
    {
     "data": {
      "text/plain": [
       "array([[0.83011583, 0.11196911, 0.05791506],\n",
       "       [0.23076923, 0.53846154, 0.23076923],\n",
       "       [0.06666667, 0.2       , 0.73333333]])"
      ]
     },
     "execution_count": 4,
     "metadata": {},
     "output_type": "execute_result"
    }
   ],
   "source": [
    "M1 = Markov(c)\n",
    "M1.transitions\n",
    "M1.p"
   ]
  },
  {
   "cell_type": "code",
   "execution_count": 5,
   "metadata": {},
   "outputs": [
    {
     "data": {
      "image/png": "[encoded data removed]",
      "text/plain": [
       "<Figure size 500x400 with 2 Axes>"
      ]
     },
     "metadata": {},
     "output_type": "display_data"
    }
   ],
   "source": [
    "fig, ax1 = plt.subplots(figsize = (5,4))\n",
    "im = sns.heatmap(M1.p, annot=True, linewidths=.4, ax=ax1, cbar=True, vmin=0, vmax=1,square=True,  cmap=\"YlGn\",fmt='.3f')\n",
    "#plt.savefig('global.jpg',dpi=400)"
   ]
  },
  {
   "cell_type": "markdown",
   "metadata": {},
   "source": [
    "# Chaîne inclus semi-markov"
   ]
  },
  {
   "cell_type": "code",
   "execution_count": 6,
   "metadata": {},
   "outputs": [],
   "source": [
    "class Semi_Markov(object):\n",
    "    def __init__(self, class_ids):\n",
    "        self.classes = np.unique(class_ids)\n",
    "        class_ids = np.array(class_ids)\n",
    "        n, t = class_ids.shape\n",
    "        k = len(self.classes)\n",
    "        self.k = k\n",
    "        js = list(range(t - 1))\n",
    "\n",
    "        classIds = self.classes.tolist()\n",
    "        transitions = np.zeros((k, k))\n",
    "        for state_0 in js:\n",
    "            state_1 = state_0 + 1\n",
    "            state_0 = class_ids[:, state_0]\n",
    "            state_1 = class_ids[:, state_1]\n",
    "            initial = np.unique(state_0)\n",
    "            for i in initial:\n",
    "                ending = state_1[state_0 == i]\n",
    "                uending = np.unique(ending)\n",
    "                row = classIds.index(i)\n",
    "                for j in uending:\n",
    "                    if i !=j:\n",
    "                        col = classIds.index(j)\n",
    "                        transitions[row, col] += sum(ending == j)\n",
    "        self.transitions = transitions\n",
    "        row_sum = transitions.sum(axis=1)\n",
    "        self.p = np.dot(np.diag(1 / (row_sum + (row_sum == 0))), transitions)"
   ]
  },
  {
   "cell_type": "code",
   "execution_count": 7,
   "metadata": {},
   "outputs": [
    {
     "data": {
      "text/plain": [
       "array([[0.  , 0.66, 0.34],\n",
       "       [0.5 , 0.  , 0.5 ],\n",
       "       [0.25, 0.75, 0.  ]])"
      ]
     },
     "execution_count": 7,
     "metadata": {},
     "output_type": "execute_result"
    }
   ],
   "source": [
    "M1 = Semi_Markov(c)\n",
    "M1.transitions\n",
    "M1.p\n",
    "np.round(M1.p,2)"
   ]
  },
  {
   "cell_type": "markdown",
   "metadata": {},
   "source": [
    "# Markov spatialisé"
   ]
  },
  {
   "cell_type": "code",
   "execution_count": 8,
   "metadata": {},
   "outputs": [],
   "source": [
    "w = libpysal.io.open('k3.gal').read()\n",
    "w.full()\n",
    "W = w.full()[0]"
   ]
  },
  {
   "cell_type": "code",
   "execution_count": 9,
   "metadata": {},
   "outputs": [],
   "source": [
    "classes = np.unique(c)\n",
    "k = len(classes)\n",
    "class_ids = (c-1)"
   ]
  },
  {
   "cell_type": "code",
   "execution_count": 10,
   "metadata": {},
   "outputs": [],
   "source": [
    "lclass_ids = libpysal.weights.lag_categorical(w, c,ties = 'tryself')"
   ]
  },
  {
   "cell_type": "code",
   "execution_count": 73,
   "metadata": {},
   "outputs": [],
   "source": [
    "for j in range(22):\n",
    "    for i in range(21):\n",
    "        lclass_ids[j,i]=np.array(np.around(np.average(c[:,i], weights=W[j,:])),dtype='int8')"
   ]
  },
  {
   "cell_type": "code",
   "execution_count": 11,
   "metadata": {},
   "outputs": [],
   "source": [
    "for j in range(22):    \n",
    "    for i in range(21):\n",
    "        if max(c[:,i]*W[j,:])==3:\n",
    "            lclass_ids[j,i]=3\n",
    "        elif max(c[:,i]*W[j,:])==2:\n",
    "            lclass_ids[j,i]=2\n",
    "        elif max(c[:,i]*W[j,:])==1:\n",
    "            lclass_ids[j,i]=1"
   ]
  },
  {
   "cell_type": "code",
   "execution_count": 12,
   "metadata": {},
   "outputs": [
    {
     "data": {
      "text/plain": [
       "array([[0, 1, 0, 0, 1, 0, 0, 0, 2, 1, 2, 0, 0, 0, 2, 2, 2, 2, 2, 2, 2],\n",
       "       [0, 0, 0, 0, 0, 0, 0, 0, 0, 0, 0, 0, 0, 2, 1, 0, 2, 2, 2, 2, 2],\n",
       "       [0, 0, 0, 0, 0, 0, 0, 0, 0, 0, 0, 0, 0, 1, 1, 1, 2, 2, 2, 2, 2],\n",
       "       [0, 0, 0, 0, 0, 1, 1, 0, 0, 1, 1, 1, 0, 2, 1, 2, 2, 2, 2, 2, 2],\n",
       "       [0, 0, 0, 0, 0, 0, 0, 0, 2, 2, 1, 1, 0, 1, 2, 2, 2, 2, 1, 2, 2],\n",
       "       [0, 1, 1, 1, 1, 1, 2, 2, 2, 2, 2, 2, 2, 1, 1, 2, 2, 2, 2, 2, 2],\n",
       "       [0, 0, 0, 0, 0, 0, 0, 1, 0, 0, 1, 0, 1, 1, 1, 2, 2, 2, 2, 2, 2],\n",
       "       [0, 0, 1, 0, 0, 0, 0, 0, 2, 2, 2, 2, 2, 1, 2, 2, 2, 2, 2, 2, 2],\n",
       "       [0, 0, 0, 0, 0, 0, 0, 1, 0, 0, 1, 0, 1, 1, 1, 2, 2, 2, 2, 2, 2],\n",
       "       [0, 0, 0, 0, 0, 1, 1, 1, 1, 1, 1, 1, 2, 1, 1, 2, 2, 2, 2, 2, 2],\n",
       "       [0, 0, 0, 0, 0, 0, 0, 0, 2, 2, 1, 1, 0, 1, 2, 2, 2, 2, 2, 2, 2],\n",
       "       [0, 0, 0, 0, 0, 1, 1, 1, 1, 1, 1, 1, 2, 1, 1, 2, 2, 2, 2, 2, 2],\n",
       "       [0, 0, 0, 0, 0, 1, 1, 1, 2, 2, 1, 1, 2, 2, 2, 2, 2, 2, 2, 2, 2],\n",
       "       [1, 1, 1, 1, 1, 1, 1, 1, 1, 1, 1, 1, 1, 2, 2, 2, 2, 2, 2, 2, 2],\n",
       "       [1, 1, 1, 1, 1, 1, 1, 1, 2, 2, 1, 1, 1, 2, 2, 2, 2, 2, 2, 2, 2],\n",
       "       [1, 1, 1, 1, 1, 1, 1, 1, 2, 2, 1, 1, 1, 2, 2, 2, 2, 2, 2, 2, 1],\n",
       "       [0, 0, 0, 0, 0, 0, 0, 0, 0, 0, 0, 0, 0, 1, 1, 2, 1, 2, 2, 2, 2],\n",
       "       [0, 0, 0, 0, 0, 1, 1, 0, 0, 1, 1, 1, 0, 2, 1, 2, 2, 2, 2, 2, 2],\n",
       "       [0, 0, 0, 0, 0, 1, 1, 0, 0, 1, 1, 1, 0, 1, 1, 2, 2, 2, 2, 2, 2],\n",
       "       [0, 0, 0, 0, 0, 1, 1, 0, 2, 2, 1, 1, 1, 2, 2, 2, 2, 2, 2, 2, 2],\n",
       "       [1, 1, 1, 1, 1, 1, 2, 2, 2, 2, 2, 2, 2, 2, 2, 2, 2, 2, 1, 1, 1],\n",
       "       [1, 1, 1, 1, 1, 1, 1, 1, 2, 2, 2, 2, 2, 2, 2, 2, 2, 2, 2, 2, 1]])"
      ]
     },
     "execution_count": 12,
     "metadata": {},
     "output_type": "execute_result"
    }
   ],
   "source": [
    "lclass_ids = lclass_ids-1\n",
    "lclass_ids"
   ]
  },
  {
   "cell_type": "code",
   "execution_count": 13,
   "metadata": {},
   "outputs": [],
   "source": [
    "k = len(classes)\n",
    "n, t = c.shape\n",
    "T = np.zeros((k, k, k))"
   ]
  },
  {
   "cell_type": "code",
   "execution_count": 14,
   "metadata": {},
   "outputs": [],
   "source": [
    "k = len(classes)\n",
    "n, t = c.shape\n",
    "T = np.zeros((k, k, k))\n",
    "for t1 in range(t-1):\n",
    "    t2 = t1 + 1\n",
    "    for i in range(n):\n",
    "        T[lclass_ids[i, t1], class_ids[i, t1], class_ids[i, t2]] += 1\n",
    "\n",
    "P = np.zeros_like(T)"
   ]
  },
  {
   "cell_type": "code",
   "execution_count": 15,
   "metadata": {},
   "outputs": [
    {
     "data": {
      "text/plain": [
       "array([[[ 0.,  8.,  2.],\n",
       "        [ 6.,  0.,  1.],\n",
       "        [ 1.,  1.,  0.]],\n",
       "\n",
       "       [[ 0., 15.,  3.],\n",
       "        [ 8.,  0.,  7.],\n",
       "        [ 1.,  2.,  0.]],\n",
       "\n",
       "       [[ 0.,  6., 10.],\n",
       "        [ 7.,  0., 13.],\n",
       "        [ 4., 15.,  0.]]])"
      ]
     },
     "execution_count": 15,
     "metadata": {},
     "output_type": "execute_result"
    }
   ],
   "source": [
    "np.fill_diagonal(T[0],0)\n",
    "np.fill_diagonal(T[1],0)\n",
    "np.fill_diagonal(T[2],0)\n",
    "T"
   ]
  },
  {
   "cell_type": "code",
   "execution_count": 16,
   "metadata": {},
   "outputs": [],
   "source": [
    "for i, mat in enumerate(T):\n",
    "    row_sum = mat.sum(axis=1)\n",
    "    row_sum = row_sum + (row_sum == 0)\n",
    "    p_i = np.array(np.diag(1.0 / row_sum)).dot(np.array(mat))\n",
    "    P[i] = p_i"
   ]
  },
  {
   "cell_type": "code",
   "execution_count": 17,
   "metadata": {},
   "outputs": [
    {
     "data": {
      "text/plain": [
       "Text(0.5, 1.0, 'Spatial Conditional High')"
      ]
     },
     "execution_count": 17,
     "metadata": {},
     "output_type": "execute_result"
    },
    {
     "data": {
      "image/png": "[encoded data removed]",
      "text/plain": [
       "<Figure size 1600x400 with 6 Axes>"
      ]
     },
     "metadata": {},
     "output_type": "display_data"
    }
   ],
   "source": [
    "fig, axes = plt.subplots(1,3,figsize = (16,4))\n",
    "\n",
    "ax = axes[0]\n",
    "im = sns.heatmap(P[0], annot=True, linewidths=.5, ax=ax, cbar=True, vmin=0, vmax=1,square=True, cmap=\"binary\",fmt='.3f')\n",
    "ax.set_title(\"Spatial Conditional Low\",fontsize=13)\n",
    "\n",
    "ax = axes[1]\n",
    "im = sns.heatmap(P[1], annot=True, linewidths=.5, ax=ax, cbar=True, vmin=0, vmax=1,square=True, cmap=\"binary\",fmt='.3f')\n",
    "ax.set_title(\"Spatial Conditional Medium\",fontsize=13)\n",
    "\n",
    "ax = axes[2]\n",
    "im = sns.heatmap(P[2], annot=True, linewidths=.5, ax=ax, cbar=True, vmin=0, vmax=1,square=True, cmap=\"binary\",fmt='.3f')\n",
    "ax.set_title(\"Spatial Conditional High\",fontsize=13)\n",
    "\n",
    "#plt.savefig('spatiale.pdf')\n",
    "#plt.savefig('spatiale.jpg',dpi=500)"
   ]
  },
  {
   "cell_type": "markdown",
   "metadata": {},
   "source": [
    "# Matrice bayesienne"
   ]
  },
  {
   "cell_type": "code",
   "execution_count": 18,
   "metadata": {},
   "outputs": [
    {
     "data": {
      "text/plain": [
       "array([[[0.       , 0.73     , 0.27     ],\n",
       "        [0.75     , 0.       , 0.25     ],\n",
       "        [0.5      , 0.5      , 0.       ]],\n",
       "\n",
       "       [[0.       , 0.7859   , 0.2141   ],\n",
       "        [0.5277134, 0.       , 0.4722866],\n",
       "        [0.4184965, 0.5815035, 0.       ]],\n",
       "\n",
       "       [[0.       , 0.3956   , 0.6044   ],\n",
       "        [0.36983  , 0.       , 0.63017  ],\n",
       "        [0.2555689, 0.7444311, 0.       ]]])"
      ]
     },
     "execution_count": 18,
     "metadata": {},
     "output_type": "execute_result"
    }
   ],
   "source": [
    "P = np.zeros((3, 3, 3))\n",
    "P[0] = np.array([[0,0.73,0.27],[0.75,0,0.25],[0.5,0.5,0]])\n",
    "P[1] = np.array([[0,0.7859,0.2141],[0.5277134,0,0.4722866],[0.4184965,0.5815035,0]])\n",
    "P[2] = np.array([[0,0.3956,0.6044],[0.36983,0,0.63017],[0.2555689,0.7444311,0]])\n",
    "P"
   ]
  },
  {
   "cell_type": "code",
   "execution_count": 19,
   "metadata": {},
   "outputs": [
    {
     "data": {
      "text/plain": [
       "Text(0.5, 1.0, 'Spatial Conditional High')"
      ]
     },
     "execution_count": 19,
     "metadata": {},
     "output_type": "execute_result"
    },
    {
     "data": {
      "image/png": "[encoded data removed]",
      "text/plain": [
       "<Figure size 1600x400 with 6 Axes>"
      ]
     },
     "metadata": {},
     "output_type": "display_data"
    }
   ],
   "source": [
    "fig, axes = plt.subplots(1,3,figsize = (16,4))\n",
    "\n",
    "ax = axes[0]\n",
    "im = sns.heatmap(P[0], annot=True, linewidths=.5, ax=ax, cbar=True, vmin=0, vmax=1,square=True, cmap=\"binary\",fmt='.3f')\n",
    "ax.set_title(\"Spatial Conditional Low\",fontsize=13)\n",
    "\n",
    "ax = axes[1]\n",
    "im = sns.heatmap(P[1], annot=True, linewidths=.5, ax=ax, cbar=True, vmin=0, vmax=1,square=True, cmap=\"binary\",fmt='.3f')\n",
    "ax.set_title(\"Spatial Conditional Medium\",fontsize=13)\n",
    "\n",
    "ax = axes[2]\n",
    "im = sns.heatmap(P[2], annot=True, linewidths=.5, ax=ax, cbar=True, vmin=0, vmax=1,square=True, cmap=\"binary\",fmt='.3f')\n",
    "ax.set_title(\"Spatial Conditional High\",fontsize=13)\n",
    "\n",
    "#plt.savefig('spatiale.pdf')\n",
    "#plt.savefig('spatiale.jpg',dpi=500)"
   ]
  },
  {
   "cell_type": "markdown",
   "metadata": {},
   "source": [
    "# Temps de séjour"
   ]
  },
  {
   "cell_type": "code",
   "execution_count": 20,
   "metadata": {},
   "outputs": [],
   "source": [
    "def sejourn_time(space,k,espace,state0,state1) :\n",
    "    row,col = k.shape\n",
    "    sejour=list()\n",
    "    for l in range(row):\n",
    "        j=0\n",
    "        for i in range(col):\n",
    "            if space[l,i] == espace:\n",
    "                if k[l,i]==state0:\n",
    "                    j+=1\n",
    "                elif k[l,i]!=state0:\n",
    "                    if j!=0:\n",
    "                        sejour.append(j)\n",
    "                    j=0       \n",
    "                else:\n",
    "                    j=0\n",
    "    return sejour"
   ]
  },
  {
   "cell_type": "code",
   "execution_count": 21,
   "metadata": {},
   "outputs": [],
   "source": [
    "sejour = sejourn_time(space=lclass_ids,k=c,espace=1,state0=1,state1 =1)"
   ]
  },
  {
   "cell_type": "code",
   "execution_count": 22,
   "metadata": {},
   "outputs": [
    {
     "data": {
      "text/plain": [
       "[1, 5, 2, 1, 3, 4, 2, 2, 1, 8, 8, 9, 5, 2, 5, 5, 5, 1]"
      ]
     },
     "execution_count": 22,
     "metadata": {},
     "output_type": "execute_result"
    }
   ],
   "source": [
    "sejour"
   ]
  },
  {
   "cell_type": "code",
   "execution_count": 23,
   "metadata": {},
   "outputs": [
    {
     "data": {
      "text/plain": [
       "3.8333333333333335"
      ]
     },
     "execution_count": 23,
     "metadata": {},
     "output_type": "execute_result"
    },
    {
     "data": {
      "image/png": "[encoded data removed]",
      "text/plain": [
       "<Figure size 640x480 with 1 Axes>"
      ]
     },
     "metadata": {},
     "output_type": "display_data"
    }
   ],
   "source": [
    "table = Counter(sejour)\n",
    "sns.set(style=\"whitegrid\")\n",
    "plt.bar(table.keys(), table.values(),color=\"red\")\n",
    "plt.ylabel('Nombres d\\'occurence')\n",
    "plt.xlabel(\"Temps de sejour en état Medium -> High \")\n",
    "#plt.savefig('med-high.jpg',dpi=200)\n",
    "np.mean(sejour)"
   ]
  },
  {
   "cell_type": "markdown",
   "metadata": {},
   "source": [
    "# Chaine semi-markov spatial"
   ]
  },
  {
   "cell_type": "code",
   "execution_count": 24,
   "metadata": {},
   "outputs": [
    {
     "name": "stdout",
     "output_type": "stream",
     "text": [
      "[1 2 3]\n",
      "22 21\n",
      "3\n"
     ]
    },
    {
     "data": {
      "text/plain": [
       "0"
      ]
     },
     "execution_count": 24,
     "metadata": {},
     "output_type": "execute_result"
    }
   ],
   "source": [
    "print(np.unique(c))\n",
    "n,t = c.shape\n",
    "k = len(np.unique(c))\n",
    "print(n,t)\n",
    "print(k)\n",
    "js = list(range(t - 1))\n",
    "classIds=np.unique(c).tolist()\n",
    "js[0]"
   ]
  },
  {
   "cell_type": "code",
   "execution_count": 25,
   "metadata": {},
   "outputs": [
    {
     "data": {
      "text/plain": [
       "array([[0.        , 0.65909091, 0.34090909],\n",
       "       [0.5       , 0.        , 0.5       ],\n",
       "       [0.25      , 0.75      , 0.        ]])"
      ]
     },
     "execution_count": 25,
     "metadata": {},
     "output_type": "execute_result"
    }
   ],
   "source": [
    "transitions = np.zeros((k, k))\n",
    "for state_0 in js:\n",
    "    state_1 = state_0 + 1\n",
    "    state_0 = c[:, state_0]\n",
    "    state_1 = c[:, state_1]\n",
    "    initial = np.unique(state_0)\n",
    "    for i in initial:\n",
    "        ending = state_1[state_0 == i]\n",
    "        uending = np.unique(ending)\n",
    "        row = classIds.index(i)\n",
    "        for j in uending:\n",
    "            if i !=j:\n",
    "                col = classIds.index(j)\n",
    "                transitions[row, col] += sum(ending == j)\n",
    "row_sum = transitions.sum(axis=1)\n",
    "Q = np.dot(np.diag(1 / (row_sum + (row_sum == 0))), transitions)\n",
    "Q"
   ]
  },
  {
   "cell_type": "markdown",
   "metadata": {},
   "source": [
    "# Simulation chaine semi-markovien "
   ]
  },
  {
   "cell_type": "code",
   "execution_count": 28,
   "metadata": {},
   "outputs": [],
   "source": [
    "def Sejour(x,y):\n",
    "    sejour = np.array([[0,np.random.poisson(5.02,size=1)[0],np.random.geometric(p=0.16,size=1)[0]],\n",
    "          [np.random.geometric(p=0.654,size=1)[0],0,np.random.geometric(p=0.444,size=1)[0]],\n",
    "          [np.random.geometric(p=0.62,size=1)[0],np.random.geometric(p=0.33,size=1)[0],0]])\n",
    "    return(sejour[x,y])"
   ]
  },
  {
   "cell_type": "code",
   "execution_count": 61,
   "metadata": {
    "scrolled": true
   },
   "outputs": [
    {
     "data": {
      "text/plain": [
       "array([[0.91666667, 0.06666667, 0.01666667],\n",
       "       [0.35294118, 0.58823529, 0.05882353],\n",
       "       [0.33333333, 0.33333333, 0.33333333]])"
      ]
     },
     "execution_count": 61,
     "metadata": {},
     "output_type": "execute_result"
    }
   ],
   "source": [
    "Q = P[0]\n",
    "Q"
   ]
  },
  {
   "cell_type": "code",
   "execution_count": 62,
   "metadata": {},
   "outputs": [],
   "source": [
    "horizon = 10000\n",
    "simul = [1]"
   ]
  },
  {
   "cell_type": "code",
   "execution_count": 63,
   "metadata": {},
   "outputs": [],
   "source": [
    "for i in range(0,horizon):\n",
    "    etat = np.random.choice(size=1,a=[0,1,2],p=Q[simul[-1]])[0]\n",
    "    for j in range(Sejour(simul[-1],etat)):\n",
    "        simul.append(simul[-1])\n",
    "    simul.append(etat)"
   ]
  },
  {
   "cell_type": "code",
   "execution_count": 64,
   "metadata": {},
   "outputs": [
    {
     "data": {
      "text/plain": [
       "[<matplotlib.lines.Line2D at 0x7ff06558fee0>]"
      ]
     },
     "execution_count": 64,
     "metadata": {},
     "output_type": "execute_result"
    },
    {
     "data": {
      "image/png": "[encoded data removed]",
      "text/plain": [
       "<Figure size 640x480 with 1 Axes>"
      ]
     },
     "metadata": {},
     "output_type": "display_data"
    }
   ],
   "source": [
    "plt.step(range(len(simul)),simul)"
   ]
  },
  {
   "cell_type": "markdown",
   "metadata": {},
   "source": [
    "# Temps de retour et excursion"
   ]
  },
  {
   "cell_type": "code",
   "execution_count": 65,
   "metadata": {},
   "outputs": [],
   "source": [
    "abs_time = list()\n",
    "j=0\n",
    "for l in range(1,len(simul)):\n",
    "    if simul[l] != 0 :\n",
    "        j+=1\n",
    "    elif simul[l] == 0 :\n",
    "        if j!=0:\n",
    "            abs_time.append(j)\n",
    "        j=0\n",
    "    else :\n",
    "        j=0"
   ]
  },
  {
   "cell_type": "code",
   "execution_count": 66,
   "metadata": {},
   "outputs": [
    {
     "data": {
      "image/png": "[encoded data removed]",
      "text/plain": [
       "<Figure size 640x480 with 1 Axes>"
      ]
     },
     "metadata": {},
     "output_type": "display_data"
    }
   ],
   "source": [
    "k = np.linspace(1,40,40)\n",
    "plt.hist(abs_time,bins=10, density=True,color='gray')\n",
    "#plt.plot(k,expo(k),color=\"red\",label=\"Geometric law\")\n",
    "plt.savefig('high_low.jpg',dpi=400)"
   ]
  },
  {
   "cell_type": "code",
   "execution_count": 52,
   "metadata": {},
   "outputs": [
    {
     "data": {
      "text/plain": [
       "0.05084138918725385"
      ]
     },
     "execution_count": 52,
     "metadata": {},
     "output_type": "execute_result"
    }
   ],
   "source": [
    "q = len(abs_time)/sum(abs_time)\n",
    "q"
   ]
  },
  {
   "cell_type": "code",
   "execution_count": 49,
   "metadata": {},
   "outputs": [],
   "source": [
    "q = len(abs_time)/sum(abs_time)\n",
    "def expo(k):\n",
    "    p = q\n",
    "    return((1-p)**(k-1)*p)"
   ]
  },
  {
   "cell_type": "code",
   "execution_count": 67,
   "metadata": {},
   "outputs": [
    {
     "data": {
      "text/plain": [
       "5.450301204819277"
      ]
     },
     "execution_count": 67,
     "metadata": {},
     "output_type": "execute_result"
    }
   ],
   "source": [
    "sum(abs_time)/len(abs_time)"
   ]
  },
  {
   "cell_type": "code",
   "execution_count": null,
   "metadata": {},
   "outputs": [],
   "source": []
  }
 ],
 "metadata": {
  "kernelspec": {
   "display_name": "Python 3 (ipykernel)",
   "language": "python",
   "name": "python3"
  },
  "language_info": {
   "codemirror_mode": {
    "name": "ipython",
    "version": 3
   },
   "file_extension": ".py",
   "mimetype": "text/x-python",
   "name": "python",
   "nbconvert_exporter": "python",
   "pygments_lexer": "ipython3",
   "version": "3.10.9"
  }
 },
 "nbformat": 4,
 "nbformat_minor": 4
}
